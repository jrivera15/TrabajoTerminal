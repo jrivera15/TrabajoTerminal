{
 "cells": [
  {
   "cell_type": "markdown",
   "id": "df92a3e7",
   "metadata": {},
   "source": [
    "# Procesamiento Espacial\n",
    "\n",
    "Esta libreta utiliza librerías de procesamiento de datos geoespaciales con dos objetivos:\n",
    "\n",
    "1. Crear una relación de correspondencia entre códigos postales con su respectiva AGEB (Área Geoestadística Básica, definida por INEGI).\n",
    "   \n",
    "   En la mayoría de los casos, el código postal suele ser un área geográfica más grande que el AGEB. Por lo tanto, un código postal puede contener varias AGEB. En este caso, para definir qué AGEB corresponde a un código postal, se eligirá de forma aleatoria de entre el conjunto de AGEBS que intersectan a un código postal.\n",
    "   \n",
    "   Esto nos permitirá - en el futuro - poder relacionar nuestros datos con otras fuentes de datos que estén determinadas por AGEBs, la cual es de las unidades más comunes en estudios realizados en México. Por ejemplo, el Índice de Marginación Urbana realizada por CONAPO.\n",
    "\n",
    "2. Calcular la distancia entre puntos, en este caso para calcular la distancia entre casa y escuela. \n",
    "\n",
    "*NOTA*: Se utilizan códigos postales y AGEBs del estado de Sonora."
   ]
  },
  {
   "cell_type": "markdown",
   "id": "6f68b128",
   "metadata": {},
   "source": [
    "### Importando librerías"
   ]
  },
  {
   "cell_type": "code",
   "execution_count": 5,
   "id": "6eb44acf",
   "metadata": {},
   "outputs": [],
   "source": [
    "import geopandas as gpd\n",
    "import pandas as pd\n",
    "from shapely.geometry import Point\n",
    "import os\n",
    "from geopy.distance import geodesic\n",
    "import random"
   ]
  },
  {
   "cell_type": "code",
   "execution_count": null,
   "id": "fd3030b8",
   "metadata": {},
   "outputs": [],
   "source": [
    "# Definición de Rutas\n",
    "cp_path = \"../DatosExternos/CORREOSDEMEXICO/CP_SONORA_SHP\"\n",
    "ageb_path = \"../DatosExternos/INEGI/MARCO_GEOESTADISTICO_SONORA_2024/conjunto_de_datos\"\n",
    "csv_path = \"../data/processed\"\n",
    "\n",
    "# Definir sistema de coordenadas de referencia \n",
    "crs = \"EPSG:6372\" # Proyección optimizada para México"
   ]
  },
  {
   "cell_type": "markdown",
   "id": "86a4ba0e",
   "metadata": {},
   "source": [
    "### Cargando polígonos de códigos postales (SEPOMEX)"
   ]
  },
  {
   "cell_type": "code",
   "execution_count": 17,
   "id": "6da288a3",
   "metadata": {},
   "outputs": [],
   "source": [
    "# Cargar el SHP file de códigos postales\n",
    "cp = gpd.read_file(os.path.join(cp_path, 'CP_26Son_v10.shp'))\n",
    "\n",
    "# Reproyectar al mismo sistema de coordenadas\n",
    "cp = cp.to_crs(crs)\n",
    "\n",
    "# Corregir geometrías inválidas\n",
    "cp[\"geometry\"] = cp[\"geometry\"].buffer(0)\n",
    "\n",
    "# Definir campo ID \n",
    "cp_id = \"d_codigo\""
   ]
  },
  {
   "cell_type": "markdown",
   "id": "fe3bac73",
   "metadata": {},
   "source": [
    "### Cargando polígonos de AGEBs (INEGI)"
   ]
  },
  {
   "cell_type": "code",
   "execution_count": 18,
   "id": "9265dae9",
   "metadata": {},
   "outputs": [],
   "source": [
    "# Cargar el shapefile de AGEBs del INEGI\n",
    "ageb = gpd.read_file(os.path.join(ageb_path, '26a.shp'))\n",
    "\n",
    "# Reproyectar al mismo sistema de coordenadas\n",
    "ageb = ageb.to_crs(crs)\n",
    "\n",
    "# Corregir geometrías inválidas\n",
    "ageb[\"geometry\"] = ageb[\"geometry\"].buffer(0)\n",
    "\n",
    "# Definir campo ID\n",
    "ageb_id = \"CVEGEO\""
   ]
  },
  {
   "cell_type": "markdown",
   "id": "c053e548",
   "metadata": {},
   "source": [
    "### Crear tabla de correspondencia entre Código Postal - AGEB , mediante una intersección espacial (spatial join)"
   ]
  },
  {
   "cell_type": "code",
   "execution_count": null,
   "id": "5b98b9bf",
   "metadata": {},
   "outputs": [],
   "source": [
    "# Filtrar solo el campo de la clave CVEGEO y la geometría\n",
    "ageb = ageb[['CVEGEO', 'geometry']]\n",
    "\n",
    "# Realizar la intersección espacial\n",
    "union_cp_ageb = gpd.sjoin(cp, ageb, how=\"left\", predicate=\"intersects\")\n",
    "\n",
    "# Función para elegir un AGEB aleatorio\n",
    "def elegir_aleatorio(lista_agebs):\n",
    "    valores = list(set(lista_agebs.dropna()))\n",
    "    return random.choice(valores) if valores else None\n",
    "\n",
    "# Agrupar por CP y elegir un solo AGEB al azar\n",
    "df_cp_ageb = (\n",
    "    union_cp_ageb.groupby(cp_id)[ageb_id]\n",
    "    .apply(elegir_aleatorio)\n",
    "    .reset_index()\n",
    ")\n",
    "\n",
    "# Guardar tabla CP-AGEB como CSV\n",
    "df_cp_ageb.to_csv(os.path.join(csv_path, 'df_cp_ageb.csv'), index=False)\n"
   ]
  },
  {
   "cell_type": "markdown",
   "id": "e359b0f8",
   "metadata": {},
   "source": [
    "### Determinar AGEB a la que corresponde el Código Postal de cada punto"
   ]
  },
  {
   "cell_type": "code",
   "execution_count": 36,
   "id": "9a42dd53",
   "metadata": {},
   "outputs": [
    {
     "name": "stderr",
     "output_type": "stream",
     "text": [
      "C:\\Users\\Janneth\\AppData\\Local\\Temp\\ipykernel_27828\\1389732698.py:2: DtypeWarning: Columns (6,7,35,36,37,38,39,40,41,43) have mixed types. Specify dtype option on import or set low_memory=False.\n",
      "  df_indicador = pd.read_csv(os.path.join(csv_path, 'IndicadorObtenerBiblia_ing.csv'), dtype={\"CDPOSTAL\": str})\n"
     ]
    }
   ],
   "source": [
    "# Cargar el CSV \n",
    "df_indicador = pd.read_csv(os.path.join(csv_path, 'IndicadorObtenerBiblia_ing.csv'), dtype={\"CDPOSTAL\": str})\n",
    "\n",
    "# Unir el DataFrame con la tabla de CP-AGEB\n",
    "df_indicador = df_indicador.merge(df_cp_ageb, left_on='CDPOSTAL', right_on=cp_id, how='left')\n",
    "\n",
    "df_indicador.drop(columns=['d_codigo'], inplace=True)"
   ]
  },
  {
   "cell_type": "markdown",
   "id": "88152c18",
   "metadata": {},
   "source": [
    "### Calcular la distancia casa-escuela para cada punto"
   ]
  },
  {
   "cell_type": "markdown",
   "id": "a43eeea3",
   "metadata": {},
   "source": [
    "Utilizamos geopy ya que es la más recomendada para calcular distancias geográficas cuando se tienen coordenadas en términos de latitud y longitud. Además, geopy tiene en cuenta la curvatura de la Tierra, lo que la hace más precisa."
   ]
  },
  {
   "cell_type": "code",
   "execution_count": 38,
   "id": "4743f745",
   "metadata": {},
   "outputs": [],
   "source": [
    "# Coordenadas del punto de referencia: Rectoría, Universidad de Sonora\n",
    "unison_lat = 29.083496\n",
    "unison_lon = -110.960289"
   ]
  },
  {
   "cell_type": "code",
   "execution_count": 49,
   "id": "d0f9594e",
   "metadata": {},
   "outputs": [],
   "source": [
    "# Crear geometría de puntos\n",
    "df_indicador['geometry'] = [Point(xy) for xy in zip(df_indicador['LON'], df_indicador['LAT'])]\n",
    "\n",
    "# Convertir a GeoDataFrame\n",
    "gpdf_indicador = gpd.GeoDataFrame(df_indicador, geometry='geometry', crs=crs)  \n",
    "\n",
    "# Corregir geometrías\n",
    "gpdf_indicador['geometry'] = gpdf_indicador['geometry'].apply(lambda geom: geom if geom.is_valid else geom.buffer(0))"
   ]
  },
  {
   "cell_type": "code",
   "execution_count": 50,
   "id": "b3de187f",
   "metadata": {},
   "outputs": [],
   "source": [
    "# Calcular distancia entre cada punto y el punto de referencia\n",
    "def calcular_distancia(row):\n",
    "    if row['geometry'].is_empty:\n",
    "        return None\n",
    "    else:\n",
    "        return geodesic((unison_lat, unison_lon), (row['LAT'], row['LON'])).km # Distancia en kilómetros\n",
    "    \n",
    "\n",
    "# Aplicar la función de distancia a cada fila\n",
    "gpdf_indicador['dist_casa_esc_km'] = gpdf_indicador.apply(calcular_distancia, axis=1)\n",
    "gpdf_indicador['dist_casa_esc_km'] = gpdf_indicador['dist_casa_esc_km'].round(3)"
   ]
  },
  {
   "cell_type": "code",
   "execution_count": 54,
   "id": "967bace0",
   "metadata": {},
   "outputs": [],
   "source": [
    "# Filtrar las columnas necesarias\n",
    "gpdf_indicador.drop(columns=['geometry'], inplace=True)"
   ]
  },
  {
   "cell_type": "markdown",
   "id": "c62593cd",
   "metadata": {},
   "source": [
    "### Guardar CSV"
   ]
  },
  {
   "cell_type": "code",
   "execution_count": 55,
   "id": "5db1c4fb",
   "metadata": {},
   "outputs": [],
   "source": [
    "# Guardar resultado en CSV\n",
    "gpdf_indicador.to_csv(os.path.join(csv_path, 'IndicadorObtenerBiblia_ext.csv'), index=False)"
   ]
  }
 ],
 "metadata": {
  "kernelspec": {
   "display_name": "Python 3",
   "language": "python",
   "name": "python3"
  },
  "language_info": {
   "codemirror_mode": {
    "name": "ipython",
    "version": 3
   },
   "file_extension": ".py",
   "mimetype": "text/x-python",
   "name": "python",
   "nbconvert_exporter": "python",
   "pygments_lexer": "ipython3",
   "version": "3.11.3"
  }
 },
 "nbformat": 4,
 "nbformat_minor": 5
}
